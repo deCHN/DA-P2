{
 "cells": [
  {
   "cell_type": "markdown",
   "metadata": {},
   "source": [
    "[项目要求 Investigate a Dataset](https://review.udacity.com/#!/rubrics/306/view)  \n",
    "[项目数据 Titanic](https://d17h27t6h515a5.cloudfront.net/topher/2016/December/584bcec3_titanic-data/titanic-data.csv)  \n",
    "\n",
    "<p style=\"color:#888888\">\n",
    "作业环境：  \n",
    "Jupyter notebook server: 4.3.1  \n",
    "Python 2.7.13 |Anaconda custom (64-bit)| (default, Dec 19 2016, 13:29:36) [MSC v.1500 64 bit (AMD64)]  \n",
    "</p>\n",
    "\n",
    "[Github](https://github.com/xnceth/DA-P2)"
   ]
  },
  {
   "cell_type": "code",
   "execution_count": 1,
   "metadata": {
    "collapsed": true
   },
   "outputs": [],
   "source": [
    "import numpy as np\n",
    "import pandas as pd\n",
    "import matplotlib.pyplot as plt\n",
    "import seaborn as sns"
   ]
  },
  {
   "cell_type": "markdown",
   "metadata": {},
   "source": [
    "### 第一步 - 选择数据集\n",
    ">从下面的数据集中任选一个，在此项目中进行分析：\n",
    "\n",
    ">泰坦尼克号数据：包括泰坦尼克号上 2224 名乘客和船员中 891 名的人口学数据和乘客基本信息。你可以在 Kaggle 网站上查看这个数据集的详细描述。这个数据集就是来自 Kaggle。\n",
    ">棒球赛数据：这个数据集包括从 1871 年到 2014年完整的棒球赛击球和投球数据，还包括防守数据、排名、球队数据、管理记录、季后赛数据等等。这个数据集含有很多文件，你可以任选一个你最感兴趣的展开分析。选择“逗号分开”的文件版本（comma-delimited version），其中有 CSV 格式文档。\n",
    "\n",
    "我将选择泰坦尼克号的数据进行探索。"
   ]
  },
  {
   "cell_type": "code",
   "execution_count": 2,
   "metadata": {
    "collapsed": false,
    "scrolled": true
   },
   "outputs": [
    {
     "data": {
      "text/plain": [
       "PassengerId    False\n",
       "Survived       False\n",
       "Pclass         False\n",
       "Name           False\n",
       "Sex            False\n",
       "Age             True\n",
       "SibSp          False\n",
       "Parch          False\n",
       "Ticket         False\n",
       "Fare           False\n",
       "Cabin           True\n",
       "Embarked        True\n",
       "dtype: bool"
      ]
     },
     "execution_count": 2,
     "metadata": {},
     "output_type": "execute_result"
    }
   ],
   "source": [
    "df = pd.read_csv('titanic-data.csv')\n",
    "\n",
    "# Check if the columns contain empty values.\n",
    "df.isnull().any()"
   ]
  },
  {
   "cell_type": "markdown",
   "metadata": {},
   "source": [
    "清理缺失值：  \n",
    "1. 因主要的探索项是\"Survived\"，所以对缺失这一关键信息的记录作删除 dropna()。(数据中survived并没有空置，这里只做补充。）\n",
    "2. 对Cabin, Embarked为空的作补零 fillna(0)。\n",
    "3. 对Age用其平均值来补缺fillna(Age.mean())。"
   ]
  },
  {
   "cell_type": "code",
   "execution_count": 3,
   "metadata": {
    "collapsed": false
   },
   "outputs": [
    {
     "name": "stdout",
     "output_type": "stream",
     "text": [
      "If any datapoint is empty?:  False\n"
     ]
    }
   ],
   "source": [
    "# 1.\n",
    "df.dropna(subset=['Survived'], inplace=True)\n",
    "\n",
    "# 2.\n",
    "for col in ['Cabin', 'Embarked']:\n",
    "    df[col].fillna(0, inplace=True)\n",
    "\n",
    "# 3.\n",
    "df['Age'].fillna(df.Age.mean(), inplace=True)\n",
    "\n",
    "print 'If any datapoint is empty?: ', df.isnull().any().any()"
   ]
  },
  {
   "cell_type": "markdown",
   "metadata": {},
   "source": [
    "VARIABLE DESCRIPTIONS:  \n",
    "\n",
    ">survival        Survival\n",
    "                (0 = No; 1 = Yes)  \n",
    "pclass          Passenger Class\n",
    "                (1 = 1st; 2 = 2nd; 3 = 3rd)  \n",
    "name            Name  \n",
    "sex             Sex  \n",
    "age             Age  \n",
    "sibsp           Number of Siblings/Spouses Aboard  \n",
    "parch           Number of Parents/Children Aboard  \n",
    "ticket          Ticket Number  \n",
    "fare            Passenger Fare  \n",
    "cabin           Cabin  \n",
    "embarked        Port of Embarkation\n",
    "                (C = Cherbourg; Q = Queenstown; S = Southampton)  \n",
    "\n",
    ">SPECIAL NOTES:\n",
    "Pclass is a proxy for socio-economic status (SES)\n",
    " 1st ~ Upper; 2nd ~ Middle; 3rd ~ Lower\n",
    "\n",
    ">Age is in Years; Fractional if Age less than One (1)\n",
    " If the Age is Estimated, it is in the form xx.5\n",
    "\n",
    ">With respect to the family relation variables (i.e. sibsp and parch)\n",
    "some relations were ignored.  The following are the definitions used\n",
    "for sibsp and parch.\n",
    "\n",
    ">Sibling:  Brother, Sister, Stepbrother, or Stepsister of Passenger Aboard Titanic\n",
    "Spouse:   Husband or Wife of Passenger Aboard Titanic (Mistresses and Fiances Ignored)\n",
    "Parent:   Mother or Father of Passenger Aboard Titanic\n",
    "Child:    Son, Daughter, Stepson, or Stepdaughter of Passenger Aboard Titanic\n",
    "\n",
    ">Other family relatives excluded from this study include cousins,\n",
    "nephews/nieces, aunts/uncles, and in-laws.  Some children travelled\n",
    "only with a nanny, therefore parch=0 for them.  As well, some\n",
    "travelled with very close friends or neighbors in a village, however,\n",
    "the definitions do not support such relations."
   ]
  },
  {
   "cell_type": "markdown",
   "metadata": {},
   "source": [
    "### 第二步 - 做好准备\n",
    ">最终，你需要提交一份报告（并与你的朋友、家人或同事分享）。在正式开始之前，让我们为此做好准备。我们建议你新建一个文件夹，包括：\n",
    "\n",
    ">报告文档，用来传达你的发现\n",
    "你用来分析数据的任何 Python 代码\n",
    "你分析的数据集（当然，提交的时候你不需要包括它）\n",
    "你可以使用 IPython Notebook，这样，你可以在同一份文件里编写报告和提交代码。不然你可能只能分别提交报告和代码了。"
   ]
  },
  {
   "cell_type": "markdown",
   "metadata": {},
   "source": [
    "所有的分析及代码都将保存在这个文件：\n",
    "[titanic_data_explore.ipynb](https://github.com/xnceth/DA-P2/blob/master/titanic_data_explore.ipynb)"
   ]
  },
  {
   "cell_type": "markdown",
   "metadata": {},
   "source": [
    "### 第三步 - 分析数据\n",
    ">思考你可以用数据集回答哪些问题，然后开始着手调查。下面是一些示例：\n",
    "\n",
    ">泰坦尼克号数据\n",
    "有哪些因素会让船上的人生还率更高？\n",
    "棒球赛数据\n",
    "不同表现指标之间有何关系？有哪些指标之间程有明显的正相关或负相关？\n",
    "薪酬最高的棒球球员有何特点？\n",
    "试着提出那些调查多个变量之间的关系的问题。你应该在你的调查里分析至少一个因变量和三个自变量。在恰当的地方使用 NumPy 和 Pandas。"
   ]
  },
  {
   "cell_type": "markdown",
   "metadata": {},
   "source": [
    "#### 问题一：样本的生还率为多少？"
   ]
  },
  {
   "cell_type": "code",
   "execution_count": 4,
   "metadata": {
    "collapsed": false
   },
   "outputs": [
    {
     "name": "stdout",
     "output_type": "stream",
     "text": [
      "生还人数： 342\n",
      "总人数： 891\n",
      "生还率： 38.3838383838 %\n"
     ]
    },
    {
     "data": {
      "image/png": "[encoded data removed]",
      "text/plain": [
       "<matplotlib.figure.Figure at 0xc6b8c88>"
      ]
     },
     "metadata": {},
     "output_type": "display_data"
    }
   ],
   "source": [
    "print '生还人数：', df.Survived.sum() \n",
    "print '总人数：', len(df)\n",
    "print '生还率：', df.Survived.mean() * 100, '%'\n",
    "\n",
    "a = len(df[df.Survived==1])\n",
    "b = len(df[df.Survived==0])\n",
    "\n",
    "plt.pie([a,b], \n",
    "        labels=['Survived', 'Unknown'],\n",
    "        labeldistance=0.25,\n",
    "        colors=['green', 'orange'],\n",
    "        autopct='%1.1f%%',\n",
    "        startangle=90,\n",
    "        textprops={'weight': 'bold', 'color': 'white', 'fontsize':'x-large'})\n",
    "plt.axis('equal')\n",
    "plt.show()"
   ]
  },
  {
   "cell_type": "markdown",
   "metadata": {},
   "source": [
    "#### 问题二：男女的生还比例各为多少？"
   ]
  },
  {
   "cell_type": "code",
   "execution_count": 5,
   "metadata": {
    "collapsed": false
   },
   "outputs": [
    {
     "name": "stdout",
     "output_type": "stream",
     "text": [
      "男性生还率： 18.8908145581 %\n",
      "女性生还率： 74.2038216561 %\n"
     ]
    }
   ],
   "source": [
    "male = df[df.Sex=='male']\n",
    "female = df[df.Sex=='female']\n",
    "print '男性生还率：', male.Survived.sum() / float(len(male)) * 100, '%'\n",
    "print '女性生还率：', female.Survived.sum() / float(len(female)) * 100, '%'"
   ]
  },
  {
   "cell_type": "markdown",
   "metadata": {},
   "source": [
    "#### 问题三：生还率与那些因素相关？\n",
    "探索各列与“Survived\"的相关系数(皮尔逊系数)：\n",
    "$$r={\\frac {1}{n-1}}\\sum \\limits _{i=1}^{n}\\left({\\frac {X_{i}-{\\overline {X}}}{\\sigma _{X}}}\\right)\\left({\\frac {Y_{i}-{\\overline {Y}}}{\\sigma _{Y}}}\\right)$$\n",
    "\n",
    "\n",
    "<i>* 此公式针对两样本的相关系数，即ddof=1。在这里，我希望对于总体样本进行估算，所以采用ddof=0求值。</i>  \n",
    "<i>* 此函数为数学公式的直接实现，也可调用numpy包的函数corrcoef(a,b)</i>"
   ]
  },
  {
   "cell_type": "code",
   "execution_count": 6,
   "metadata": {
    "collapsed": false
   },
   "outputs": [
    {
     "name": "stdout",
     "output_type": "stream",
     "text": [
      "PassengerId  - Survived:\t-0.00500666076707\n",
      "Pclass  - Survived:\t-0.338481035961\n",
      "Age  - Survived:\t-0.0698085152871\n",
      "SibSp  - Survived:\t-0.0353224988857\n",
      "Parch  - Survived:\t0.0816294070835\n",
      "Fare  - Survived:\t0.257306522385\n"
     ]
    }
   ],
   "source": [
    "# @see numpy.corrcoef(x,y)\n",
    "# ddof = 0 for population estimation\n",
    "def myCorr(x, y):\n",
    "    n = len(x)\n",
    "    if n != len(y):\n",
    "        print \"warn: different length\"\n",
    "    \n",
    "    return (((x-x.mean())/x.std(ddof=0)) * ((y-y.mean())/y.std(ddof=0))).sum() / n\n",
    "\n",
    "# correlation with numeric columns\n",
    "for x in ['PassengerId','Pclass', 'Age', 'SibSp', 'Parch', 'Fare']:\n",
    "    print x, ' - Survived:\\t', myCorr(df[x], df['Survived']) "
   ]
  },
  {
   "cell_type": "markdown",
   "metadata": {},
   "source": [
    "从结果可以看出Pclass与生还与否之间可能有某种联系，进一步分析："
   ]
  },
  {
   "cell_type": "code",
   "execution_count": 7,
   "metadata": {
    "collapsed": false
   },
   "outputs": [
    {
     "data": {
      "text/html": [
       "<div>\n",
       "<table border=\"1\" class=\"dataframe\">\n",
       "  <thead>\n",
       "    <tr style=\"text-align: right;\">\n",
       "      <th></th>\n",
       "      <th>PassengerId</th>\n",
       "      <th>Survived</th>\n",
       "      <th>Name</th>\n",
       "      <th>Sex</th>\n",
       "      <th>Age</th>\n",
       "      <th>SibSp</th>\n",
       "      <th>Parch</th>\n",
       "      <th>Ticket</th>\n",
       "      <th>Fare</th>\n",
       "      <th>Cabin</th>\n",
       "      <th>Embarked</th>\n",
       "    </tr>\n",
       "    <tr>\n",
       "      <th>Pclass</th>\n",
       "      <th></th>\n",
       "      <th></th>\n",
       "      <th></th>\n",
       "      <th></th>\n",
       "      <th></th>\n",
       "      <th></th>\n",
       "      <th></th>\n",
       "      <th></th>\n",
       "      <th></th>\n",
       "      <th></th>\n",
       "      <th></th>\n",
       "    </tr>\n",
       "  </thead>\n",
       "  <tbody>\n",
       "    <tr>\n",
       "      <th>1</th>\n",
       "      <td>2</td>\n",
       "      <td>1</td>\n",
       "      <td>Cumings, Mrs. John Bradley (Florence Briggs Th...</td>\n",
       "      <td>female</td>\n",
       "      <td>38.0</td>\n",
       "      <td>1</td>\n",
       "      <td>0</td>\n",
       "      <td>PC 17599</td>\n",
       "      <td>71.2833</td>\n",
       "      <td>C85</td>\n",
       "      <td>C</td>\n",
       "    </tr>\n",
       "    <tr>\n",
       "      <th>2</th>\n",
       "      <td>10</td>\n",
       "      <td>1</td>\n",
       "      <td>Nasser, Mrs. Nicholas (Adele Achem)</td>\n",
       "      <td>female</td>\n",
       "      <td>14.0</td>\n",
       "      <td>1</td>\n",
       "      <td>0</td>\n",
       "      <td>237736</td>\n",
       "      <td>30.0708</td>\n",
       "      <td>0</td>\n",
       "      <td>C</td>\n",
       "    </tr>\n",
       "    <tr>\n",
       "      <th>3</th>\n",
       "      <td>1</td>\n",
       "      <td>0</td>\n",
       "      <td>Braund, Mr. Owen Harris</td>\n",
       "      <td>male</td>\n",
       "      <td>22.0</td>\n",
       "      <td>1</td>\n",
       "      <td>0</td>\n",
       "      <td>A/5 21171</td>\n",
       "      <td>7.2500</td>\n",
       "      <td>0</td>\n",
       "      <td>S</td>\n",
       "    </tr>\n",
       "  </tbody>\n",
       "</table>\n",
       "</div>"
      ],
      "text/plain": [
       "        PassengerId  Survived  \\\n",
       "Pclass                          \n",
       "1                 2         1   \n",
       "2                10         1   \n",
       "3                 1         0   \n",
       "\n",
       "                                                     Name     Sex   Age  \\\n",
       "Pclass                                                                    \n",
       "1       Cumings, Mrs. John Bradley (Florence Briggs Th...  female  38.0   \n",
       "2                     Nasser, Mrs. Nicholas (Adele Achem)  female  14.0   \n",
       "3                                 Braund, Mr. Owen Harris    male  22.0   \n",
       "\n",
       "        SibSp  Parch     Ticket     Fare Cabin Embarked  \n",
       "Pclass                                                   \n",
       "1           1      0   PC 17599  71.2833   C85        C  \n",
       "2           1      0     237736  30.0708     0        C  \n",
       "3           1      0  A/5 21171   7.2500     0        S  "
      ]
     },
     "execution_count": 7,
     "metadata": {},
     "output_type": "execute_result"
    }
   ],
   "source": [
    "byPclass = df.groupby('Pclass')\n",
    "byPclass.first()"
   ]
  },
  {
   "cell_type": "code",
   "execution_count": 8,
   "metadata": {
    "collapsed": false
   },
   "outputs": [
    {
     "name": "stdout",
     "output_type": "stream",
     "text": [
      "Survive-chance of each 'Pclass' in percentage %:\n",
      "Pclass\n",
      "1    62.962963\n",
      "2    47.282609\n",
      "3    24.236253\n",
      "dtype: float64\n"
     ]
    }
   ],
   "source": [
    "print \"Survive-chance of each 'Pclass' in percentage %:\\n\", byPclass.Survived.sum().div(byPclass.size()) * 100"
   ]
  },
  {
   "cell_type": "markdown",
   "metadata": {},
   "source": [
    "从图中可以看出，舱位越高（1)，生还几率越高(63%)。反之，舱位越低（3），生还几率相对越低(24%)。"
   ]
  },
  {
   "cell_type": "markdown",
   "metadata": {},
   "source": [
    "接着，尝试针对非numeric的列进行探索，首先是性别, 此处将male转换为‘0’, female转换为‘1’"
   ]
  },
  {
   "cell_type": "code",
   "execution_count": 9,
   "metadata": {
    "collapsed": false
   },
   "outputs": [
    {
     "name": "stdout",
     "output_type": "stream",
     "text": [
      "Pearson correlation coef. (Survived, Sex):  0.543351380658\n"
     ]
    }
   ],
   "source": [
    "def digitalSex(s):\n",
    "    if s == \"male\":\n",
    "        return int(0) # actually in python, True == 1, False == 0.\n",
    "    elif s == \"female\":\n",
    "        return int(1)\n",
    "    else:\n",
    "        return None\n",
    "    \n",
    "dSex = df.Sex.apply(digitalSex)\n",
    "print 'Pearson correlation coef. (Survived, Sex): ', myCorr(df.Survived, dSex)"
   ]
  },
  {
   "cell_type": "markdown",
   "metadata": {},
   "source": [
    "可以得出“性别对生还几率也有一定相关性(.54)”。接着，对船舱及性别进行分组："
   ]
  },
  {
   "cell_type": "code",
   "execution_count": 10,
   "metadata": {
    "collapsed": false
   },
   "outputs": [
    {
     "data": {
      "text/html": [
       "<div>\n",
       "<table border=\"1\" class=\"dataframe\">\n",
       "  <thead>\n",
       "    <tr style=\"text-align: right;\">\n",
       "      <th></th>\n",
       "      <th></th>\n",
       "      <th>PassengerId</th>\n",
       "      <th>Survived</th>\n",
       "      <th>Name</th>\n",
       "      <th>Age</th>\n",
       "      <th>SibSp</th>\n",
       "      <th>Parch</th>\n",
       "      <th>Ticket</th>\n",
       "      <th>Fare</th>\n",
       "      <th>Cabin</th>\n",
       "      <th>Embarked</th>\n",
       "    </tr>\n",
       "    <tr>\n",
       "      <th>Sex</th>\n",
       "      <th>Pclass</th>\n",
       "      <th></th>\n",
       "      <th></th>\n",
       "      <th></th>\n",
       "      <th></th>\n",
       "      <th></th>\n",
       "      <th></th>\n",
       "      <th></th>\n",
       "      <th></th>\n",
       "      <th></th>\n",
       "      <th></th>\n",
       "    </tr>\n",
       "  </thead>\n",
       "  <tbody>\n",
       "    <tr>\n",
       "      <th rowspan=\"3\" valign=\"top\">female</th>\n",
       "      <th>1</th>\n",
       "      <td>2</td>\n",
       "      <td>1</td>\n",
       "      <td>Cumings, Mrs. John Bradley (Florence Briggs Th...</td>\n",
       "      <td>38.000000</td>\n",
       "      <td>1</td>\n",
       "      <td>0</td>\n",
       "      <td>PC 17599</td>\n",
       "      <td>71.2833</td>\n",
       "      <td>C85</td>\n",
       "      <td>C</td>\n",
       "    </tr>\n",
       "    <tr>\n",
       "      <th>2</th>\n",
       "      <td>10</td>\n",
       "      <td>1</td>\n",
       "      <td>Nasser, Mrs. Nicholas (Adele Achem)</td>\n",
       "      <td>14.000000</td>\n",
       "      <td>1</td>\n",
       "      <td>0</td>\n",
       "      <td>237736</td>\n",
       "      <td>30.0708</td>\n",
       "      <td>0</td>\n",
       "      <td>C</td>\n",
       "    </tr>\n",
       "    <tr>\n",
       "      <th>3</th>\n",
       "      <td>3</td>\n",
       "      <td>1</td>\n",
       "      <td>Heikkinen, Miss. Laina</td>\n",
       "      <td>26.000000</td>\n",
       "      <td>0</td>\n",
       "      <td>0</td>\n",
       "      <td>STON/O2. 3101282</td>\n",
       "      <td>7.9250</td>\n",
       "      <td>0</td>\n",
       "      <td>S</td>\n",
       "    </tr>\n",
       "    <tr>\n",
       "      <th rowspan=\"3\" valign=\"top\">male</th>\n",
       "      <th>1</th>\n",
       "      <td>7</td>\n",
       "      <td>0</td>\n",
       "      <td>McCarthy, Mr. Timothy J</td>\n",
       "      <td>54.000000</td>\n",
       "      <td>0</td>\n",
       "      <td>0</td>\n",
       "      <td>17463</td>\n",
       "      <td>51.8625</td>\n",
       "      <td>E46</td>\n",
       "      <td>S</td>\n",
       "    </tr>\n",
       "    <tr>\n",
       "      <th>2</th>\n",
       "      <td>18</td>\n",
       "      <td>1</td>\n",
       "      <td>Williams, Mr. Charles Eugene</td>\n",
       "      <td>29.699118</td>\n",
       "      <td>0</td>\n",
       "      <td>0</td>\n",
       "      <td>244373</td>\n",
       "      <td>13.0000</td>\n",
       "      <td>0</td>\n",
       "      <td>S</td>\n",
       "    </tr>\n",
       "    <tr>\n",
       "      <th>3</th>\n",
       "      <td>1</td>\n",
       "      <td>0</td>\n",
       "      <td>Braund, Mr. Owen Harris</td>\n",
       "      <td>22.000000</td>\n",
       "      <td>1</td>\n",
       "      <td>0</td>\n",
       "      <td>A/5 21171</td>\n",
       "      <td>7.2500</td>\n",
       "      <td>0</td>\n",
       "      <td>S</td>\n",
       "    </tr>\n",
       "  </tbody>\n",
       "</table>\n",
       "</div>"
      ],
      "text/plain": [
       "               PassengerId  Survived  \\\n",
       "Sex    Pclass                          \n",
       "female 1                 2         1   \n",
       "       2                10         1   \n",
       "       3                 3         1   \n",
       "male   1                 7         0   \n",
       "       2                18         1   \n",
       "       3                 1         0   \n",
       "\n",
       "                                                            Name        Age  \\\n",
       "Sex    Pclass                                                                 \n",
       "female 1       Cumings, Mrs. John Bradley (Florence Briggs Th...  38.000000   \n",
       "       2                     Nasser, Mrs. Nicholas (Adele Achem)  14.000000   \n",
       "       3                                  Heikkinen, Miss. Laina  26.000000   \n",
       "male   1                                 McCarthy, Mr. Timothy J  54.000000   \n",
       "       2                            Williams, Mr. Charles Eugene  29.699118   \n",
       "       3                                 Braund, Mr. Owen Harris  22.000000   \n",
       "\n",
       "               SibSp  Parch            Ticket     Fare Cabin Embarked  \n",
       "Sex    Pclass                                                          \n",
       "female 1           1      0          PC 17599  71.2833   C85        C  \n",
       "       2           1      0            237736  30.0708     0        C  \n",
       "       3           0      0  STON/O2. 3101282   7.9250     0        S  \n",
       "male   1           0      0             17463  51.8625   E46        S  \n",
       "       2           0      0            244373  13.0000     0        S  \n",
       "       3           1      0         A/5 21171   7.2500     0        S  "
      ]
     },
     "execution_count": 10,
     "metadata": {},
     "output_type": "execute_result"
    }
   ],
   "source": [
    "bySexPclass = df.groupby(('Sex', 'Pclass'))\n",
    "bySexPclass.first()"
   ]
  },
  {
   "cell_type": "markdown",
   "metadata": {},
   "source": [
    "每组的生还率为："
   ]
  },
  {
   "cell_type": "code",
   "execution_count": 11,
   "metadata": {
    "collapsed": false
   },
   "outputs": [
    {
     "name": "stdout",
     "output_type": "stream",
     "text": [
      "Sex     Pclass\n",
      "female  1         96.808511\n",
      "        2         92.105263\n",
      "        3         50.000000\n",
      "male    1         36.885246\n",
      "        2         15.740741\n",
      "        3         13.544669\n",
      "dtype: float64\n"
     ]
    }
   ],
   "source": [
    "ratio = 100 * bySexPclass.Survived.sum() / bySexPclass.size()\n",
    "print ratio"
   ]
  },
  {
   "cell_type": "markdown",
   "metadata": {},
   "source": [
    "可以看到头等舱及二等舱的女性几乎都能生还，而3等舱的男性则很难生还。下图为不同船舱中男女存活的比例示意图："
   ]
  },
  {
   "cell_type": "code",
   "execution_count": 12,
   "metadata": {
    "collapsed": false
   },
   "outputs": [
    {
     "data": {
      "image/png": "[encoded data removed]",
      "text/plain": [
       "<matplotlib.figure.Figure at 0x4729518>"
      ]
     },
     "metadata": {},
     "output_type": "display_data"
    }
   ],
   "source": [
    "male = ratio.male\n",
    "female = ratio.female\n",
    "yMale, yFemale = male.values, female.values\n",
    "xMale, xFemale = np.arange(male.size), np.arange(female.size)\n",
    "width, marginLeft = 0.35, 0.4\n",
    "p1 = plt.bar(marginLeft + xMale, yMale, width)\n",
    "p2 = plt.bar(marginLeft + xFemale, yFemale, width, bottom=yMale, color='#d62222')\n",
    "\n",
    "plt.title('Survived ratio by Pclass and gender')\n",
    "plt.ylabel('Survived %')\n",
    "plt.xticks(xMale + marginLeft + 0.5*width, ('First class', 'Second class', 'Third class'))\n",
    "plt.yticks(np.arange(0,180,20))\n",
    "plt.legend((p1[0], p2[0]), ('Men', 'Women'))\n",
    "plt.show()\n"
   ]
  },
  {
   "cell_type": "markdown",
   "metadata": {},
   "source": [
    "#### 问题四：不同年龄段的生存率是否有明显不同？\n",
    "虽然从之前的分析[6]中看不出年龄与生还率的直接联系，但不同年龄段的人可能会不同："
   ]
  },
  {
   "cell_type": "code",
   "execution_count": 13,
   "metadata": {
    "collapsed": false
   },
   "outputs": [
    {
     "data": {
      "text/plain": [
       "count    891.000000\n",
       "mean      29.699118\n",
       "std       13.002015\n",
       "min        0.420000\n",
       "25%       22.000000\n",
       "50%       29.699118\n",
       "75%       35.000000\n",
       "max       80.000000\n",
       "Name: Age, dtype: float64"
      ]
     },
     "execution_count": 13,
     "metadata": {},
     "output_type": "execute_result"
    }
   ],
   "source": [
    "df.Age.describe()"
   ]
  },
  {
   "cell_type": "markdown",
   "metadata": {},
   "source": [
    "由于平均年龄为30岁，一个标准差为13岁，年龄最大差值为（80-0）= 80岁，试着将年龄按每10岁来分组（binsize=10, 8 bins）："
   ]
  },
  {
   "cell_type": "code",
   "execution_count": 14,
   "metadata": {
    "collapsed": false
   },
   "outputs": [
    {
     "name": "stdout",
     "output_type": "stream",
     "text": [
      "    Age  Survived  Age10\n",
      "0  22.0         0   20.0\n",
      "1  38.0         1   30.0\n",
      "2  26.0         1   20.0\n",
      "3  35.0         1   30.0\n",
      "4  35.0         0   30.0\n"
     ]
    }
   ],
   "source": [
    "import math\n",
    "df2 = df.loc[:,['Age', 'Survived']].dropna()\n",
    "binsize = 10\n",
    "df2['Age10'] = df2.Age.apply(lambda n: math.floor(n/binsize)*binsize)\n",
    "print df2.head()"
   ]
  },
  {
   "cell_type": "markdown",
   "metadata": {},
   "source": [
    "按照每10岁来分组："
   ]
  },
  {
   "cell_type": "code",
   "execution_count": 15,
   "metadata": {
    "collapsed": false
   },
   "outputs": [
    {
     "name": "stdout",
     "output_type": "stream",
     "text": [
      "\n",
      "Survival ratio in percentage %:\n",
      "Age10\n",
      "0.0      61.290323\n",
      "10.0     40.196078\n",
      "20.0     32.493703\n",
      "30.0     43.712575\n",
      "40.0     38.202247\n",
      "50.0     41.666667\n",
      "60.0     31.578947\n",
      "70.0      0.000000\n",
      "80.0    100.000000\n",
      "dtype: float64\n"
     ]
    }
   ],
   "source": [
    "byAge10 = df2.groupby(['Age10'])\n",
    "percentage = byAge10.Survived.sum().div(byAge10.size())\n",
    "print '\\nSurvival ratio in percentage %:\\n', percentage * 100"
   ]
  },
  {
   "cell_type": "markdown",
   "metadata": {},
   "source": [
    "可以看出，相对而言孩童（&lt;10岁）的生存率较高（可以想象，小孩可以抱在手上，且不占救生船的位置）。下图是存活人群中不同年龄段的分布示意图："
   ]
  },
  {
   "cell_type": "code",
   "execution_count": 16,
   "metadata": {
    "collapsed": false
   },
   "outputs": [
    {
     "data": {
      "image/png": "[encoded data removed]",
      "text/plain": [
       "<matplotlib.figure.Figure at 0xc6b8550>"
      ]
     },
     "metadata": {},
     "output_type": "display_data"
    }
   ],
   "source": [
    "agelb = byAge10.groups.keys()\n",
    "plt.pie(byAge10.Survived.sum(), labels=sorted(agelb), autopct='%1.1f%%', shadow=True, startangle=90)\n",
    "plt.axis('equal')\n",
    "plt.show()"
   ]
  },
  {
   "cell_type": "markdown",
   "metadata": {},
   "source": [
    "从图总可以看出存活下来的人大多（70%）都为30岁以下。<a id=\"refnote1\" href=\"#note1\" style=\"text-decoration: none\">【1】</a>"
   ]
  },
  {
   "cell_type": "markdown",
   "metadata": {},
   "source": [
    "#### 问题五：生还率是否与姓名有联系，是否某个家族得到优先的救援？<a id=\"refnote2\" href=\"#note2\" style=\"text-decoration: none\">【2】</a>"
   ]
  },
  {
   "cell_type": "code",
   "execution_count": 17,
   "metadata": {
    "collapsed": false
   },
   "outputs": [
    {
     "data": {
      "text/plain": [
       "Name\n",
       " Miss. Bertha            4\n",
       " Miss. Anna Sofia        3\n",
       " Miss. Anna              3\n",
       " Miss. Mary              3\n",
       " Miss. Ellen \"Nellie\"    2\n",
       "Name: Survived, dtype: int64"
      ]
     },
     "execution_count": 17,
     "metadata": {},
     "output_type": "execute_result"
    }
   ],
   "source": [
    "lastname = df.Name.apply(lambda s: s.split(\",\")[1])\n",
    "byLastname = df.groupby(lastname)\n",
    "byLastname.Survived.sum().max()\n",
    "byLastname.Survived.sum().sort_values(ascending=False).head()"
   ]
  },
  {
   "cell_type": "markdown",
   "metadata": {},
   "source": [
    "好像并没有什么特别，排名靠前的都是女性，而根据之前的分析，女性获救的比例本来就比较高。"
   ]
  },
  {
   "cell_type": "markdown",
   "metadata": {},
   "source": [
    "\n",
    "\n",
    "### 第四步 - 分享发现\n",
    ">分析完数据以后，编写一份报告，分享你觉得最有意思的发现。我们建议你使用 IPython Notebook，这样你可以在同一份文件里包括你的报告和代码。当然你也可以使用其他你习惯的工具。"
   ]
  },
  {
   "cell_type": "markdown",
   "metadata": {},
   "source": [
    "通过以上对Titanic部分生还数据的分析，发现：  \n",
    "* <b>头等舱及二等舱的女性几乎都能生还，而3等舱的男性则很难生还。</b>\n",
    "* <b>孩童得到了优先的救援。</b>\n",
    "* <b>获救的人中绝大多数的年龄都小于30岁。</b>\n",
    "* <b>“Bertha” 与 “Anna” 也许会是个幸运的女孩名字。</b>"
   ]
  },
  {
   "cell_type": "markdown",
   "metadata": {
    "collapsed": true
   },
   "source": [
    "### 第五步 - 检查\n",
    ">使用这个项目评估准则来检查你的项目。如果你已达到所有要求，可以继续提交你的项目。如果你发现还有改进的空间，不要迟疑，这就去做吧。"
   ]
  },
  {
   "cell_type": "markdown",
   "metadata": {
    "collapsed": false
   },
   "source": [
    "<ol>\n",
    "<li id=\"note1\">由于在清理数据时，用了年龄的平均值30来填充空值，可能会导致30岁年龄段的统计结果与真实情况有偏差。<a href=\"#refnote1\" style=\"text-decoration: none\">#</a></li>\n",
    "<li id=\"note2\">这里只简单的以相同的姓氏（lastname）判断是否为同一个家族。<a href=\"#refnote2\" style=\"text-decoration: none\">#</a></li>\n",
    "</ol>"
   ]
  },
  {
   "cell_type": "code",
   "execution_count": null,
   "metadata": {
    "collapsed": true
   },
   "outputs": [],
   "source": []
  }
 ],
 "metadata": {
  "kernelspec": {
   "display_name": "Python [conda root]",
   "language": "python",
   "name": "conda-root-py"
  },
  "language_info": {
   "codemirror_mode": {
    "name": "ipython",
    "version": 2
   },
   "file_extension": ".py",
   "mimetype": "text/x-python",
   "name": "python",
   "nbconvert_exporter": "python",
   "pygments_lexer": "ipython2",
   "version": "2.7.13"
  }
 },
 "nbformat": 4,
 "nbformat_minor": 2
}
